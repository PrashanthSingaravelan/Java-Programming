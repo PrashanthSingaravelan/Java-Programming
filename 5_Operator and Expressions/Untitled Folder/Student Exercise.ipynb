{
 "cells": [
  {
   "cell_type": "markdown",
   "id": "d923940d",
   "metadata": {},
   "source": [
    "## Importing libraries"
   ]
  },
  {
   "cell_type": "code",
   "execution_count": 1,
   "id": "8a3d99b9",
   "metadata": {},
   "outputs": [],
   "source": [
    "import java.io.*;\n",
    "import java.util.Scanner; \n",
    "import java.lang.Math;"
   ]
  },
  {
   "cell_type": "markdown",
   "id": "2942d984",
   "metadata": {},
   "source": [
    "## With base and height"
   ]
  },
  {
   "cell_type": "code",
   "execution_count": 2,
   "id": "e279a69c",
   "metadata": {},
   "outputs": [],
   "source": [
    "static float area_triangle(float base, float height) {\n",
    "    float area;\n",
    "    area = (1f/2f) * base * height;\n",
    "    return area;\n",
    "}"
   ]
  },
  {
   "cell_type": "code",
   "execution_count": 3,
   "id": "1e086a68",
   "metadata": {},
   "outputs": [
    {
     "name": "stdout",
     "output_type": "stream",
     "text": [
      "Enter the base and height value\n",
      "2\n",
      "3\n",
      "Base : 2.0\n",
      "Height : 3.0\n",
      "Area : 3.0\n"
     ]
    }
   ],
   "source": [
    "int b,h;\n",
    "Scanner obj1 = new Scanner(System.in);\n",
    "\n",
    "System.out.println(\"Enter the base and height value\");\n",
    "\n",
    "float b = obj1.nextFloat();\n",
    "float h = obj1.nextFloat();\n",
    "\n",
    "System.out.println(\"Base : \" + b);\n",
    "System.out.println(\"Height : \" + h);\n",
    "\n",
    "float area = area_triangle(b,h);\n",
    "System.out.println(\"Area : \" + area);"
   ]
  },
  {
   "cell_type": "markdown",
   "id": "bcc27d77",
   "metadata": {},
   "source": [
    "## With 3 sides"
   ]
  },
  {
   "cell_type": "code",
   "execution_count": 4,
   "id": "807fd349",
   "metadata": {},
   "outputs": [],
   "source": [
    "static double area_triangle(int a, int b, int c) {\n",
    "    float s, before_sqrt;\n",
    "    double area;\n",
    "    s           = (1/2)*(a+b+c);\n",
    "    before_sqrt = s*(s-a)*(s-b)*(s-c);\n",
    "    area        = Math.sqrt(before_sqrt);\n",
    "    \n",
    "    return area;\n",
    "}"
   ]
  },
  {
   "cell_type": "code",
   "execution_count": 6,
   "id": "7023ca98",
   "metadata": {},
   "outputs": [
    {
     "name": "stdout",
     "output_type": "stream",
     "text": [
      "Enter the 3 sides value : \n",
      "4\n",
      "5\n",
      "6\n",
      "Side-1 : 4\n",
      "Side-2 : 5\n",
      "Side-3 : 6\n"
     ]
    },
    {
     "ename": "CompilationException",
     "evalue": "",
     "output_type": "error",
     "traceback": [
      "\u001b[1m\u001b[30m|   \u001b[1m\u001b[30mdouble area = \u001b[0m\u001b[1m\u001b[30m\u001b[41marea_triangle\u001b[0m\u001b[1m\u001b[30m(a,b,c);\u001b[0m",
      "\u001b[1m\u001b[31mreference to area_triangle is ambiguous\u001b[0m",
      "\u001b[1m\u001b[31m  both method area_triangle(int,int,int) in  and method area_triangle(int,int,int) in  match\u001b[0m",
      ""
     ]
    }
   ],
   "source": [
    "int a,b,c;\n",
    "Scanner obj1 = new Scanner(System.in);\n",
    "\n",
    "System.out.println(\"Enter the 3 sides value : \");\n",
    "\n",
    "int a = obj1.nextInt();\n",
    "int b = obj1.nextInt();\n",
    "int c = obj1.nextInt();\n",
    "\n",
    "System.out.println(\"Side-1 : \" + a);\n",
    "System.out.println(\"Side-2 : \" + b);\n",
    "System.out.println(\"Side-3 : \" + c);\n",
    "\n",
    "double area = area_triangle(a,b,c);\n",
    "System.out.println(\"Area : \" + area);"
   ]
  },
  {
   "cell_type": "markdown",
   "id": "8b754b16",
   "metadata": {},
   "source": [
    "## Quadratic Question"
   ]
  },
  {
   "cell_type": "code",
   "execution_count": 3,
   "id": "db88614a",
   "metadata": {},
   "outputs": [
    {
     "name": "stdout",
     "output_type": "stream",
     "text": [
      "Enter 3 values : \n",
      "1\n",
      "-4\n",
      "4\n",
      "Root-1 : 4.0\n",
      "Root-2 : 4.0\n"
     ]
    }
   ],
   "source": [
    "Scanner obj2 = new Scanner(System.in);\n",
    "\n",
    "System.out.println(\"Enter 3 values : \");\n",
    "\n",
    "int a = obj2.nextInt();\n",
    "int b = obj2.nextInt();\n",
    "int c = obj2.nextInt();\n",
    "\n",
    "double common = Math.sqrt((b*b) - (4*a*c)) / (2*a);\n",
    "\n",
    "double r1 = (-b + common);\n",
    "double r2 = (-b - common);\n",
    "\n",
    "System.out.println(\"Root-1 : \" + r1);\n",
    "System.out.println(\"Root-2 : \" + r2);"
   ]
  },
  {
   "cell_type": "markdown",
   "id": "9b202110",
   "metadata": {},
   "source": [
    "## Cuboid"
   ]
  },
  {
   "cell_type": "markdown",
   "id": "63cade93",
   "metadata": {},
   "source": [
    "<img src = 'Cuboid.jpg'>"
   ]
  },
  {
   "cell_type": "code",
   "execution_count": 7,
   "id": "47f59c2a",
   "metadata": {},
   "outputs": [
    {
     "name": "stdout",
     "output_type": "stream",
     "text": [
      "1\n",
      "2\n",
      "3\n",
      "Area   : 22.0\n",
      "Volumn : 6.0\n"
     ]
    }
   ],
   "source": [
    "Scanner obj3 = new Scanner(System.in);\n",
    "\n",
    "int length  = obj3.nextInt();\n",
    "int breadth = obj3.nextInt();\n",
    "int height  = obj3.nextInt();\n",
    "\n",
    "int front_back = length  * height;\n",
    "int right_left = breadth * height;\n",
    "int bottom_top = length  * breadth;\n",
    "\n",
    "float area   = 2 * (front_back + right_left + bottom_top);\n",
    "float volume = length * breadth * height;\n",
    "\n",
    "System.out.println(\"Area   : \" + area);\n",
    "System.out.println(\"Volumn : \" + volume);"
   ]
  },
  {
   "cell_type": "code",
   "execution_count": null,
   "id": "933542af",
   "metadata": {},
   "outputs": [],
   "source": []
  }
 ],
 "metadata": {
  "kernelspec": {
   "display_name": "Java",
   "language": "java",
   "name": "java"
  },
  "language_info": {
   "codemirror_mode": "java",
   "file_extension": ".jshell",
   "mimetype": "text/x-java-source",
   "name": "Java",
   "pygments_lexer": "java",
   "version": "17.0.2+8-LTS-86"
  }
 },
 "nbformat": 4,
 "nbformat_minor": 5
}
