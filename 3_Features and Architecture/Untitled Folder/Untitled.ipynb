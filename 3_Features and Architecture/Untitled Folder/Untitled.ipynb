{
 "cells": [
  {
   "cell_type": "code",
   "execution_count": 1,
   "id": "1255a332",
   "metadata": {},
   "outputs": [],
   "source": [
    "int a = 2"
   ]
  },
  {
   "cell_type": "code",
   "execution_count": 2,
   "id": "a4c52983",
   "metadata": {},
   "outputs": [
    {
     "name": "stdout",
     "output_type": "stream",
     "text": [
      "Chavulle\n"
     ]
    }
   ],
   "source": [
    "System.out.println(\"Chavulle\")"
   ]
  },
  {
   "cell_type": "code",
   "execution_count": 3,
   "id": "aafedcc0",
   "metadata": {},
   "outputs": [
    {
     "ename": "CompilationException",
     "evalue": "",
     "output_type": "error",
     "traceback": [
      "\u001b[1m\u001b[30m|   \u001b[1m\u001b[30m\u001b[0m\u001b[1m\u001b[30m\u001b[41mprint\u001b[0m\u001b[1m\u001b[30m(\"Chavulle\")\u001b[0m",
      "\u001b[1m\u001b[31mcannot find symbol\u001b[0m",
      "\u001b[1m\u001b[31m  symbol:   method print(java.lang.String)\u001b[0m",
      ""
     ]
    }
   ],
   "source": [
    "print(\"Chavulle\")"
   ]
  },
  {
   "cell_type": "code",
   "execution_count": null,
   "id": "bdc7c207",
   "metadata": {},
   "outputs": [],
   "source": []
  }
 ],
 "metadata": {
  "kernelspec": {
   "display_name": "Java",
   "language": "java",
   "name": "java"
  },
  "language_info": {
   "codemirror_mode": "java",
   "file_extension": ".jshell",
   "mimetype": "text/x-java-source",
   "name": "Java",
   "pygments_lexer": "java",
   "version": "17.0.2+8-LTS-86"
  }
 },
 "nbformat": 4,
 "nbformat_minor": 5
}
