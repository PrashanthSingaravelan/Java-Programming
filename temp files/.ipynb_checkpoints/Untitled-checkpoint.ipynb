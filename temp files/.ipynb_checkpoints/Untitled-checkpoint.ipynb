{
 "cells": [
  {
   "cell_type": "code",
   "execution_count": 2,
   "id": "c35ffe36",
   "metadata": {},
   "outputs": [],
   "source": [
    "StringBuffer mySql = new StringBuffer(\"insert into student (col1, col2, col3, col4, col5) values (?, ?, ?, ?, ?)\");"
   ]
  },
  {
   "cell_type": "code",
   "execution_count": 3,
   "id": "c6b20f44",
   "metadata": {},
   "outputs": [
    {
     "data": {
      "text/plain": [
       "insert into student (col1, col2, col3, col4, col5) values (?, ?, ?, ?, ?), (?, ?, ?, ?, ?), (?, ?, ?, ?, ?), (?, ?, ?, ?, ?), (?, ?, ?, ?, ?), (?, ?, ?, ?, ?);"
      ]
     },
     "execution_count": 3,
     "metadata": {},
     "output_type": "execute_result"
    }
   ],
   "source": [
    "String myArray[][] = { \n",
    "                { \"1-1004\", \"1-1005\", \"1-1006\", \"1-1007\", \"1-1008\", \"1-1009\" }, \n",
    "                { \"2-Dhoni\", \"2-Kohli\", \"2-Corey Schafar\", \"2-Krish Naik\", \"2-Sudhanshu Kumar\", \"2-Kumar\" }, \n",
    "                { \"3-20\", \"3-19\", \"3-22\", \"3-24\", \"3-18\", \"3-23\" },\n",
    "                { \"4-Civil Engineering\", \"4-Software Engineering\", \"4-ECE Engineering\", \n",
    "                  \"4-Biomedical Engineering\", \"4-Mechanical Engineering\", \"4-Bio-informatics Engineering\"},\n",
    "                { \"5-98\", \"5-69\", \"5-90\", \"5-95\", \"5-99\", \"5-92\" }\n",
    "            };\n",
    "            \n",
    "            for (int i = 0; i < myArray.length; i++) { mySql.append(\", (?, ?, ?, ?, ?)\"); }\n",
    "            \n",
    "            mySql.append(\";\"); //also add the terminator at the end of sql statement"
   ]
  },
  {
   "cell_type": "code",
   "execution_count": 4,
   "id": "1342faf2",
   "metadata": {},
   "outputs": [
    {
     "data": {
      "text/plain": [
       "insert into student (col1, col2, col3, col4, col5) values (?, ?, ?, ?, ?), (?, ?, ?, ?, ?), (?, ?, ?, ?, ?), (?, ?, ?, ?, ?), (?, ?, ?, ?, ?), (?, ?, ?, ?, ?);;"
      ]
     },
     "execution_count": 4,
     "metadata": {},
     "output_type": "execute_result"
    }
   ],
   "source": [
    "mySql.append(\";\"); //also add the terminator at the end of sql statement"
   ]
  },
  {
   "cell_type": "code",
   "execution_count": null,
   "id": "fffda1b4",
   "metadata": {},
   "outputs": [],
   "source": [
    "         pstmt.setInt(1, Integer.parseInt(myArray[i][0]));\n",
    "                pstmt.setString(2, myArray[i][1]);\n",
    "                pstmt.setInt(3, Integer.parseInt(myArray[i][2]));\n",
    "                pstmt.setString(4, myArray[i][3]);\n",
    "                pstmt.setInt(5, Integer.parseInt(myArray[i][4]));"
   ]
  },
  {
   "cell_type": "code",
   "execution_count": 6,
   "id": "f356df73",
   "metadata": {},
   "outputs": [],
   "source": [
    "String myArray[][] = { \n",
    "    { \"1004\", \"1005\", \"1006\", \"1007\", \"1008\", \"1009\" }, \n",
    "    { \"Dhoni\", \"Kohli\", \"Corey Schafar\", \"Krish Naik\", \"Sudhanshu Kumar\", \"Kumar\" }, \n",
    "    { \"20\", \"19\", \"22\", \"24\", \"18\", \"23\" },\n",
    "    { \"Civil Engineering\", \"Software Engineering\", \"ECE Engineering\", \n",
    "      \"Biomedical Engineering\", \"Mechanical Engineering\", \"Bio-informatics Engineering\"},\n",
    "    { \"98\", \"69\", \"90\", \"95\", \"99\", \"92\" }\n",
    "};"
   ]
  },
  {
   "cell_type": "code",
   "execution_count": 8,
   "id": "0f9d709f",
   "metadata": {},
   "outputs": [
    {
     "name": "stdout",
     "output_type": "stream",
     "text": [
      "1004\n",
      "Dhoni\n",
      "20\n",
      "Civil Engineering\n",
      "98\n",
      "1005\n",
      "Kohli\n",
      "19\n",
      "Software Engineering\n",
      "69\n",
      "1006\n",
      "Corey Schafar\n",
      "22\n",
      "ECE Engineering\n",
      "90\n",
      "1007\n",
      "Krish Naik\n",
      "24\n",
      "Biomedical Engineering\n",
      "95\n",
      "1008\n",
      "Sudhanshu Kumar\n",
      "18\n",
      "Mechanical Engineering\n",
      "99\n"
     ]
    }
   ],
   "source": [
    "for (int i = 0; i < myArray.length; i++) { \n",
    "    System.out.println(myArray[0][i]);\n",
    "    System.out.println(myArray[1][i]);\n",
    "    System.out.println(myArray[2][i]);\n",
    "    System.out.println(myArray[3][i]);\n",
    "    System.out.println(myArray[4][i]);\n",
    "}"
   ]
  },
  {
   "cell_type": "code",
   "execution_count": 16,
   "id": "f3f73d69",
   "metadata": {},
   "outputs": [],
   "source": [
    "public static void fun1(String[][] arr1)    {\n",
    "        for (int i=0; i<arr1.length; i++)   {\n",
    "            System.out.println(arr1[0][i]);\n",
    "            System.out.println(arr1[1][i]);\n",
    "            System.out.println(arr1[2][i]);\n",
    "            System.out.println(arr1[3][i]);\n",
    "            System.out.println(arr1[4][i]);\n",
    "            System.out.println(\"\\n\");        \n",
    "    }\n",
    "}"
   ]
  },
  {
   "cell_type": "code",
   "execution_count": 17,
   "id": "dbbd9787",
   "metadata": {},
   "outputs": [
    {
     "name": "stdout",
     "output_type": "stream",
     "text": [
      "1004\n",
      "Dhoni\n",
      "20\n",
      "Civil Engineering\n",
      "98\n",
      "\n",
      "\n",
      "1005\n",
      "Kohli\n",
      "19\n",
      "Software Engineering\n",
      "69\n",
      "\n",
      "\n",
      "1006\n",
      "Corey Schafar\n",
      "22\n",
      "ECE Engineering\n",
      "90\n",
      "\n",
      "\n",
      "1007\n",
      "Krish Naik\n",
      "24\n",
      "Biomedical Engineering\n",
      "95\n",
      "\n",
      "\n",
      "1008\n",
      "Sudhanshu Kumar\n",
      "18\n",
      "Mechanical Engineering\n",
      "99\n",
      "\n",
      "\n"
     ]
    }
   ],
   "source": [
    "String myArray[][] = { \n",
    "    { \"1004\", \"1005\", \"1006\", \"1007\", \"1008\", \"1009\" }, \n",
    "    { \"Dhoni\", \"Kohli\", \"Corey Schafar\", \"Krish Naik\", \"Sudhanshu Kumar\", \"Kumar\" }, \n",
    "    { \"20\", \"19\", \"22\", \"24\", \"18\", \"23\" },\n",
    "    { \"Civil Engineering\", \"Software Engineering\", \"ECE Engineering\", \n",
    "      \"Biomedical Engineering\", \"Mechanical Engineering\", \"Bio-informatics Engineering\"},\n",
    "    { \"98\", \"69\", \"90\", \"95\", \"99\", \"92\" }\n",
    "};\n",
    "            \n",
    "fun1(myArray);"
   ]
  },
  {
   "cell_type": "code",
   "execution_count": 9,
   "id": "d2822eb5",
   "metadata": {},
   "outputs": [
    {
     "data": {
      "text/plain": [
       "5"
      ]
     },
     "execution_count": 9,
     "metadata": {},
     "output_type": "execute_result"
    }
   ],
   "source": [
    "myArray.length"
   ]
  },
  {
   "cell_type": "code",
   "execution_count": 20,
   "id": "a4583b27",
   "metadata": {},
   "outputs": [
    {
     "data": {
      "text/plain": [
       "[[Ljava.lang.String;@5f01cf65"
      ]
     },
     "execution_count": 20,
     "metadata": {},
     "output_type": "execute_result"
    }
   ],
   "source": [
    "myArray"
   ]
  },
  {
   "cell_type": "code",
   "execution_count": null,
   "id": "b2178c93",
   "metadata": {},
   "outputs": [],
   "source": []
  }
 ],
 "metadata": {
  "kernelspec": {
   "display_name": "Java",
   "language": "java",
   "name": "java"
  },
  "language_info": {
   "codemirror_mode": "java",
   "file_extension": ".jshell",
   "mimetype": "text/x-java-source",
   "name": "Java",
   "pygments_lexer": "java",
   "version": "17.0.2+8-LTS-86"
  }
 },
 "nbformat": 4,
 "nbformat_minor": 5
}
