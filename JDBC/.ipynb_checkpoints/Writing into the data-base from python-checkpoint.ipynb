{
 "cells": [
  {
   "cell_type": "code",
   "execution_count": 1,
   "metadata": {},
   "outputs": [],
   "source": [
    "import sqlite3"
   ]
  },
  {
   "cell_type": "code",
   "execution_count": 2,
   "metadata": {},
   "outputs": [],
   "source": [
    "db = sqlite3.connect(\"cars.db\")"
   ]
  },
  {
   "cell_type": "code",
   "execution_count": 3,
   "metadata": {},
   "outputs": [],
   "source": [
    "c = db.cursor()"
   ]
  },
  {
   "cell_type": "code",
   "execution_count": 4,
   "metadata": {},
   "outputs": [
    {
     "data": {
      "text/plain": [
       "<sqlite3.Cursor at 0x13b536103b0>"
      ]
     },
     "execution_count": 4,
     "metadata": {},
     "output_type": "execute_result"
    }
   ],
   "source": [
    "## Creating the hyundai table\n",
    "c.execute('CREATE TABLE hyundai(model text,color text,engine_type text ,fuel_type text,unit_price int)')"
   ]
  },
  {
   "cell_type": "code",
   "execution_count": 5,
   "metadata": {},
   "outputs": [
    {
     "data": {
      "text/plain": [
       "<sqlite3.Cursor at 0x13b536103b0>"
      ]
     },
     "execution_count": 5,
     "metadata": {},
     "output_type": "execute_result"
    }
   ],
   "source": [
    "## Inserting the data in-to the table\n",
    "c.execute(\"INSERT INTO hyundai VALUES ('baleno', 'blue', 'Automatic', 'petrol',700000)\")\n",
    "c.execute(\"INSERT INTO hyundai VALUES ('ciaz', 'red', 'Automated_Manual_Transmission', 'petrol', 900000)\")\n",
    "c.execute(\"INSERT INTO hyundai VALUES ('s-cross', 'black', 'Manual', 'petrol', 1100000)\")\n",
    "c.execute(\"INSERT INTO hyundai VALUES ('xl-6', 'red', 'Manual', 'petrol', 1000000)\")\n",
    "c.execute(\"INSERT INTO hyundai VALUES ('swift', 'white', 'Automatic', 'diesel', 500000)\")"
   ]
  },
  {
   "cell_type": "code",
   "execution_count": 6,
   "metadata": {},
   "outputs": [
    {
     "name": "stdout",
     "output_type": "stream",
     "text": [
      "('baleno', 'blue', 'Automatic', 'petrol', 700000)\n",
      "('ciaz', 'red', 'Automated_Manual_Transmission', 'petrol', 900000)\n",
      "('s-cross', 'black', 'Manual', 'petrol', 1100000)\n",
      "('xl-6', 'red', 'Manual', 'petrol', 1000000)\n",
      "('swift', 'white', 'Automatic', 'diesel', 500000)\n"
     ]
    }
   ],
   "source": [
    "data = c.execute(\"SELECT * FROM hyundai\")\n",
    "for i in data:\n",
    "    print(i)"
   ]
  },
  {
   "cell_type": "code",
   "execution_count": null,
   "metadata": {},
   "outputs": [],
   "source": []
  },
  {
   "cell_type": "code",
   "execution_count": null,
   "metadata": {},
   "outputs": [],
   "source": []
  }
 ],
 "metadata": {
  "kernelspec": {
   "display_name": "Python 3",
   "language": "python",
   "name": "python3"
  },
  "language_info": {
   "codemirror_mode": {
    "name": "ipython",
    "version": 3
   },
   "file_extension": ".py",
   "mimetype": "text/x-python",
   "name": "python",
   "nbconvert_exporter": "python",
   "pygments_lexer": "ipython3",
   "version": "3.7.6"
  }
 },
 "nbformat": 4,
 "nbformat_minor": 4
}
